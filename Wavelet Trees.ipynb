{
 "cells": [
  {
   "cell_type": "markdown",
   "source": [
    "# Applied Algorithms - Wavelet trees - Range Quantile Query"
   ],
   "metadata": {}
  },
  {
   "cell_type": "code",
   "execution_count": 1,
   "source": [
    "#Class to create the tree data structure\n",
    "class Node:\n",
    "    \n",
    "    def __init__(self,lst):\n",
    "        self.left = None\n",
    "        self.right = None\n",
    "        self.data = lst\n",
    "\n",
    "#Function to create a wavelet tree\n",
    "def create_wavelet_tree (A,root,b,i,n):\n",
    "    \n",
    "    #Nodes to keep track of the list and its corresponding bitmaps\n",
    "    left_node = []\n",
    "    right_node = []\n",
    "    left_node_b = []\n",
    "    right_node_b = []\n",
    "    mid = (max(A)+min(A))/2\n",
    "    \n",
    "    #Base case for leaf nodes - append with an X for leaf nodes\n",
    "    if n == 1:\n",
    "        root = Node(A)\n",
    "        b = Node(['X'])\n",
    "        \n",
    "    elif n == 2:\n",
    "        root = Node(A)\n",
    "        binary = [0 if k<=mid else 1 for k in A]\n",
    "        b = Node(binary)\n",
    "        root.left = Node([min(A)])\n",
    "        root.right = Node([max(A)])\n",
    "        b.left = Node(['X'])\n",
    "        b.right = Node(['X'])\n",
    "     \n",
    "    #Recursive case - if not leaf node, find the middle element and based on that\n",
    "    #find the bitmap equivalent (elements <= middle element will be 1 else 0)\n",
    "    #Elements<= middle will go to the left sub tree otherwise to the right subtree\n",
    "    elif n>1:\n",
    "        root = Node(A)\n",
    "        binary = [0 if k<=mid else 1 for k in A]\n",
    "        b = Node(binary)\n",
    "    \n",
    "        for j in range(0,len(A)):\n",
    "            if A[j]<=mid:\n",
    "                left_node.append(A[j])\n",
    "                left_node_b.append(binary[j])\n",
    "            else:\n",
    "                right_node.append(A[j])\n",
    "                right_node_b.append(binary[j])\n",
    "\n",
    "        # insert left child\n",
    "        root.left, b.left = create_wavelet_tree(left_node, root.left,b.left,\n",
    "                                     2 * i + 1, len(left_node))\n",
    "\n",
    "        \n",
    "\n",
    "        # insert right child\n",
    "        root.right,b.right = create_wavelet_tree(right_node, root.right,b.right,\n",
    "                                      2 * i + 2, len(right_node))\n",
    "\n",
    "    return root, b\n",
    "\n",
    "\n",
    "#Function t0 print the tree in order of levels\n",
    "def printLevelOrder(root):\n",
    "    \n",
    "    #Find the maximum height of the tree\n",
    "    height = get_height(root)\n",
    "    \n",
    "    #Iterate through all levels and print the elements\n",
    "    for i in range(1, height):\n",
    "        print('Level ', i-1,': ', end = ' ')\n",
    "        print_tree(root, i)\n",
    "        print(' ')\n",
    "\n",
    "        \n",
    "def print_tree(root, level):\n",
    "    \n",
    "    #Base case to check if we have reached the leaf nodes\n",
    "    if root is None:\n",
    "        return\n",
    "    \n",
    "    if level == 1:\n",
    "        print(''.join(str(l) for l in root.data), end = ' ')\n",
    "        \n",
    "    #Recursive condition - Print left and right subtree\n",
    "    elif level > 1:\n",
    "        print_tree(root.left, level-1)\n",
    "        print_tree(root.right, level-1)\n",
    " \n",
    " \n",
    "#Find the height of the tree    \n",
    "def get_height(root):\n",
    "    \n",
    "    if root is None:\n",
    "        return 0\n",
    "    \n",
    "    #Based on if the right or left subtree is big, find the height recursively\n",
    "    else:\n",
    "        left_h = get_height(root.left)\n",
    "        right_h = get_height(root.right)\n",
    "        if left_h > right_h:\n",
    "            return left_h+1\n",
    "        else:\n",
    "            return right_h+1\n",
    "\n",
    "  "
   ],
   "outputs": [],
   "metadata": {}
  },
  {
   "cell_type": "code",
   "execution_count": 2,
   "source": [
    "#Range quantile query\n",
    "def RQQ (A, k,left, right) :\n",
    "    \n",
    "    root,binary = create_wavelet_tree(A, None, None, 0,len(A))\n",
    "    print('Wavelet Tree is: ')\n",
    "    printLevelOrder(binary)\n",
    "    print('-----------------------')\n",
    "    j = 0\n",
    "    \n",
    "    #Terminate if the parameters are not right\n",
    "    if left<1 or right>len(A) or k>right-left+1 or left>=right or k<1:\n",
    "        print('Enter valid parameters')\n",
    "        return\n",
    "    \n",
    "    print('Output of Range Quantile Query: ')\n",
    "    \n",
    "    #Else iterate until we have reached the element\n",
    "    while right>1:\n",
    "        b = binary.data\n",
    "        \n",
    "        #Count the number of zeros in the given range\n",
    "        zero = b[left-1:right].count(0)\n",
    "        print('Level ', j, \": \",(k,left,right))\n",
    "        \n",
    "        #if the number of zero is greater than k, then the element is in the left subtree\n",
    "        if zero>=k:\n",
    "            \n",
    "            root = root.left\n",
    "            binary = binary.left\n",
    "            \n",
    "            #Reinitialize the value of left and right accordingly\n",
    "            left = 1+b[:left-1].count(0)\n",
    "            right = b[:right].count(0)\n",
    "        \n",
    "        #Otherwise, the element is in the right subtree\n",
    "        else:\n",
    "            \n",
    "            root = root.right\n",
    "            binary = binary.right\n",
    "            \n",
    "            #Reinitialize the value of k, left and right accordingly\n",
    "            k = k-zero\n",
    "            left = 1+b[:left-1].count(1)\n",
    "            right = b[:right].count(1)\n",
    "\n",
    "        j+=1\n",
    "               \n",
    "    print('Level ', j, \": \",(k,left,right))  \n",
    "    print('Answer: ',root.data[0])\n",
    "    return"
   ],
   "outputs": [],
   "metadata": {}
  },
  {
   "cell_type": "markdown",
   "source": [
    "Reference for the algorithm - https://arxiv.org/pdf/0903.4726.pdf"
   ],
   "metadata": {}
  },
  {
   "cell_type": "markdown",
   "source": [
    "# Test Cases"
   ],
   "metadata": {}
  },
  {
   "cell_type": "code",
   "execution_count": 3,
   "source": [
    "#Test Case 1 - Given \n",
    "lst = [ 6, 2, 0, 7, 9, 3, 1, 8, 5, 4]\n",
    "RQQ(lst,5,3,9)"
   ],
   "outputs": [
    {
     "output_type": "stream",
     "name": "stdout",
     "text": [
      "Wavelet Tree is: \n",
      "Level  0 :  1001100110  \n",
      "Level  1 :  00101 00110  \n",
      "Level  2 :  100 01 010 10  \n",
      "Level  3 :  01 X X X 10 X X X  \n",
      "-----------------------\n",
      "Output of Range Quantile Query: \n",
      "Level  0 :  (5, 3, 9)\n",
      "Level  1 :  (2, 2, 5)\n",
      "Level  2 :  (2, 2, 3)\n",
      "Level  3 :  (1, 1, 1)\n",
      "Answer:  7\n"
     ]
    }
   ],
   "metadata": {}
  },
  {
   "cell_type": "code",
   "execution_count": 4,
   "source": [
    "#Test Case 2 - Element in Left subtree \n",
    "lst = [6, 2, 0, 7, 9, 3, 1, 8, 5, 4]\n",
    "RQQ(lst,5,1,8)"
   ],
   "outputs": [
    {
     "output_type": "stream",
     "name": "stdout",
     "text": [
      "Wavelet Tree is: \n",
      "Level  0 :  1001100110  \n",
      "Level  1 :  00101 00110  \n",
      "Level  2 :  100 01 010 10  \n",
      "Level  3 :  01 X X X 10 X X X  \n",
      "-----------------------\n",
      "Output of Range Quantile Query: \n",
      "Level  0 :  (5, 1, 8)\n",
      "Level  1 :  (1, 1, 4)\n",
      "Level  2 :  (1, 1, 2)\n",
      "Level  3 :  (1, 1, 1)\n",
      "Answer:  6\n"
     ]
    }
   ],
   "metadata": {}
  },
  {
   "cell_type": "code",
   "execution_count": 5,
   "source": [
    "#Test Case 3 - Passing the entire list in the ascending order\n",
    "lst = list(range(1,10))\n",
    "RQQ(lst,4,1,9)"
   ],
   "outputs": [
    {
     "output_type": "stream",
     "name": "stdout",
     "text": [
      "Wavelet Tree is: \n",
      "Level  0 :  000001111  \n",
      "Level  1 :  00011 0011  \n",
      "Level  2 :  001 01 01 01  \n",
      "Level  3 :  01 X X X X X X X  \n",
      "-----------------------\n",
      "Output of Range Quantile Query: \n",
      "Level  0 :  (4, 1, 9)\n",
      "Level  1 :  (4, 1, 5)\n",
      "Level  2 :  (1, 1, 2)\n",
      "Level  3 :  (1, 1, 1)\n",
      "Answer:  4\n"
     ]
    }
   ],
   "metadata": {}
  },
  {
   "cell_type": "code",
   "execution_count": 6,
   "source": [
    "#Test Case 4 - Passing the entire list in the descending order\n",
    "lst = list(range(10,1,-1))\n",
    "RQQ(lst,4,1,9)"
   ],
   "outputs": [
    {
     "output_type": "stream",
     "name": "stdout",
     "text": [
      "Wavelet Tree is: \n",
      "Level  0 :  111100000  \n",
      "Level  1 :  11000 1100  \n",
      "Level  2 :  100 10 10 10  \n",
      "Level  3 :  10 X X X X X X X  \n",
      "-----------------------\n",
      "Output of Range Quantile Query: \n",
      "Level  0 :  (4, 1, 9)\n",
      "Level  1 :  (4, 1, 5)\n",
      "Level  2 :  (1, 1, 2)\n",
      "Level  3 :  (1, 1, 1)\n",
      "Answer:  5\n"
     ]
    }
   ],
   "metadata": {}
  },
  {
   "cell_type": "code",
   "execution_count": 7,
   "source": [
    "#Test Case 5 - With only negative numbers in the list\n",
    "lst = list(range(-10,-1,1))\n",
    "RQQ(lst,7,1,9)"
   ],
   "outputs": [
    {
     "output_type": "stream",
     "name": "stdout",
     "text": [
      "Wavelet Tree is: \n",
      "Level  0 :  000001111  \n",
      "Level  1 :  00011 0011  \n",
      "Level  2 :  001 01 01 01  \n",
      "Level  3 :  01 X X X X X X X  \n",
      "-----------------------\n",
      "Output of Range Quantile Query: \n",
      "Level  0 :  (7, 1, 9)\n",
      "Level  1 :  (2, 1, 4)\n",
      "Level  2 :  (2, 1, 2)\n",
      "Level  3 :  (1, 1, 1)\n",
      "Answer:  -4\n"
     ]
    }
   ],
   "metadata": {}
  },
  {
   "cell_type": "code",
   "execution_count": 8,
   "source": [
    "#Test Case 6 - Combination of positive and negative numbers in the list\n",
    "lst = [0,1,5,3,-1,-6,9,-10,4,-9,-12,6]\n",
    "RQQ(lst,5,4,11)"
   ],
   "outputs": [
    {
     "output_type": "stream",
     "name": "stdout",
     "text": [
      "Wavelet Tree is: \n",
      "Level  0 :  111110101001  \n",
      "Level  1 :  1000 00100101  \n",
      "Level  2 :  110 X 00101 010  \n",
      "Level  3 :  X 01 010 01 01 X  \n",
      "Level  4 :  X X 10 X X X X X  \n",
      "-----------------------\n",
      "Output of Range Quantile Query: \n",
      "Level  0 :  (5, 4, 11)\n",
      "Level  1 :  (1, 4, 7)\n",
      "Level  2 :  (1, 3, 5)\n",
      "Level  3 :  (1, 3, 3)\n",
      "Level  4 :  (1, 2, 2)\n",
      "Level  5 :  (1, 1, 1)\n",
      "Answer:  -1\n"
     ]
    }
   ],
   "metadata": {}
  },
  {
   "cell_type": "code",
   "execution_count": 9,
   "source": [
    "#Test Case 7 - Invalid parameter \n",
    "lst = [6, 2, 0, 7, 9, 3, 1, 8, 5, 4]\n",
    "RQQ(lst,8,1,5)"
   ],
   "outputs": [
    {
     "output_type": "stream",
     "name": "stdout",
     "text": [
      "Wavelet Tree is: \n",
      "Level  0 :  1001100110  \n",
      "Level  1 :  00101 00110  \n",
      "Level  2 :  100 01 010 10  \n",
      "Level  3 :  01 X X X 10 X X X  \n",
      "-----------------------\n",
      "Enter valid parameters\n"
     ]
    }
   ],
   "metadata": {}
  }
 ],
 "metadata": {
  "kernelspec": {
   "display_name": "Python 3",
   "language": "python",
   "name": "python3"
  },
  "language_info": {
   "codemirror_mode": {
    "name": "ipython",
    "version": 3
   },
   "file_extension": ".py",
   "mimetype": "text/x-python",
   "name": "python",
   "nbconvert_exporter": "python",
   "pygments_lexer": "ipython3",
   "version": "3.8.8"
  }
 },
 "nbformat": 4,
 "nbformat_minor": 5
}