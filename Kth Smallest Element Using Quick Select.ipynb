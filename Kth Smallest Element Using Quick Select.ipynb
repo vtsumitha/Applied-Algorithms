{
 "cells": [
  {
   "cell_type": "markdown",
   "id": "375bfef6",
   "metadata": {},
   "source": [
    "# Applied Algorithms k-th smallest element in the list using Quickselect algorithm"
   ]
  },
  {
   "cell_type": "code",
   "execution_count": 1,
   "id": "c7a006ff",
   "metadata": {},
   "outputs": [],
   "source": [
    "#Function to split the array into right and left sub half\n",
    "def split_the_array(arr, l, r):\n",
    "\n",
    "    #Assign the last element as pivot\n",
    "    pivot = arr[r]\n",
    "    pivot_index = l\n",
    "    \n",
    "    #Based on the pivot, split the array into right and left array\n",
    "    #Left side of pivot will be less the pivot and right will be greater than pivot\n",
    "    for j in range(l,r):\n",
    "        if arr[j]<=pivot:\n",
    "            arr[pivot_index] = arr[j]\n",
    "            arr[j] = arr[pivot_index]\n",
    "            pivot_index+=1\n",
    "    \n",
    "    arr[pivot_index] = arr[r]\n",
    "    arr[r] = arr[pivot_index]\n",
    "    \n",
    "    return pivot_index"
   ]
  },
  {
   "cell_type": "code",
   "execution_count": 2,
   "id": "75525a11",
   "metadata": {},
   "outputs": [],
   "source": [
    "def quickselect(arr, l, r, k):\n",
    "    \n",
    "    #check if the value of k in within the index\n",
    "    if k>=0 and k<=r-l+1:\n",
    "        \n",
    "        pivot = split_the_array(arr, l, r)\n",
    "        #print(pivot)\n",
    "        #if the pivot and k are same, then return the pivot element\n",
    "        if pivot - l == k-1:\n",
    "            return arr[pivot]\n",
    "        \n",
    "        #else recursively find if the element is on the right or left and use only that sub array\n",
    "        if pivot>=k-1:\n",
    "            return quickselect(arr,l, pivot-1,k)\n",
    "        \n",
    "        else:\n",
    "            return quickselect(arr, pivot+1,r,k-pivot+l-1)\n",
    "    else:\n",
    "        print('k is out of range')\n",
    "        return -1"
   ]
  },
  {
   "cell_type": "markdown",
   "id": "00e1e93e",
   "metadata": {},
   "source": [
    "# Test cases"
   ]
  },
  {
   "cell_type": "code",
   "execution_count": 3,
   "id": "42ffc9c5",
   "metadata": {},
   "outputs": [
    {
     "name": "stdout",
     "output_type": "stream",
     "text": [
      "3\n"
     ]
    }
   ],
   "source": [
    "#Element within the index\n",
    "arr = [5,-1,9,10,3,20,12]\n",
    "print(quickselect(arr,0,len(arr)-1,2))"
   ]
  },
  {
   "cell_type": "code",
   "execution_count": 4,
   "id": "dbed918d",
   "metadata": {},
   "outputs": [
    {
     "name": "stdout",
     "output_type": "stream",
     "text": [
      "12\n"
     ]
    }
   ],
   "source": [
    "print(quickselect(arr,0,len(arr)-1,6))"
   ]
  },
  {
   "cell_type": "code",
   "execution_count": 5,
   "id": "0d830c71",
   "metadata": {},
   "outputs": [
    {
     "name": "stdout",
     "output_type": "stream",
     "text": [
      "k is out of range\n",
      "-1\n"
     ]
    }
   ],
   "source": [
    "#Out of bound\n",
    "print(quickselect(arr,0,len(arr)-1,20))"
   ]
  }
 ],
 "metadata": {
  "kernelspec": {
   "display_name": "Python 3",
   "language": "python",
   "name": "python3"
  },
  "language_info": {
   "codemirror_mode": {
    "name": "ipython",
    "version": 3
   },
   "file_extension": ".py",
   "mimetype": "text/x-python",
   "name": "python",
   "nbconvert_exporter": "python",
   "pygments_lexer": "ipython3",
   "version": "3.8.8"
  }
 },
 "nbformat": 4,
 "nbformat_minor": 5
}
