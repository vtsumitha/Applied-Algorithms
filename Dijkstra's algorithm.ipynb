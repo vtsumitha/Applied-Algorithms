{
 "cells": [
  {
   "cell_type": "markdown",
   "source": [
    "# Applied Algorithms - Implementation of Dijkstra's Algorithm"
   ],
   "metadata": {}
  },
  {
   "cell_type": "code",
   "execution_count": 1,
   "source": [
    "#find the distance from current vertex to its neighbours and get the index with minimum distance\n",
    "def min_distance(A, distance, shortest_path):\n",
    "    \n",
    "    min_dist = float('inf')\n",
    "    \n",
    "    for i in range(len(A)):\n",
    "        if shortest_path[i] == float('inf') and distance[i] < min_dist:\n",
    "            min_index = i\n",
    "            min_dist = distance[i]\n",
    "            \n",
    "    return min_index\n"
   ],
   "outputs": [],
   "metadata": {}
  },
  {
   "cell_type": "code",
   "execution_count": 2,
   "source": [
    "#Dijkstra shortest path algorithm\n",
    "def dijkstra(A, src, dest):\n",
    "    \n",
    "    #Initialization\n",
    "    shortest_path = [float('inf')] * len(A)\n",
    "    distance = [float('inf')] * len(A)\n",
    "\n",
    "    for j in range(len(A)):\n",
    "        distance[src] = 0\n",
    "        index = min_distance(A, distance, shortest_path)\n",
    "        #update the shortest path (visited) to be true\n",
    "        shortest_path[index] = True\n",
    "\n",
    "        for i in range(len(A)):\n",
    "            #check if the path exists from the source\n",
    "            if A[index][i] > 0 and shortest_path[i] == float('inf'):\n",
    "                #Check if the new distance is less than the current distance\n",
    "                if distance[index] + A[index][i] < distance[i]:\n",
    "                    #update the distance\n",
    "                    distance[i] = distance[index] + A[index][i]\n",
    "                    \n",
    "        #We have reached the destination, return the distance         \n",
    "        if index == dest:\n",
    "            print('Shortest path from', src, 'to', dest, 'is',distance[dest])\n",
    "            return"
   ],
   "outputs": [],
   "metadata": {}
  },
  {
   "cell_type": "markdown",
   "source": [
    "Reference - https://www.freecodecamp.org/news/dijkstras-shortest-path-algorithm-visual-introduction/"
   ],
   "metadata": {}
  },
  {
   "cell_type": "markdown",
   "source": [
    "# Test Case"
   ],
   "metadata": {}
  },
  {
   "cell_type": "code",
   "execution_count": 3,
   "source": [
    "#There exists a path - Note nodes start from 0\n",
    "A = [[0,4,0,0,5,0],[1,0,0,6,0,0],[0,0,0,0,3,0],[0,1,10,0,0,5],[8,0,2,10,0,0],[0,0,0,11,0,0]]\n",
    "\n",
    "dijkstra(A, 3, 4);"
   ],
   "outputs": [
    {
     "output_type": "stream",
     "name": "stdout",
     "text": [
      "Shortest path from 3 to 4 is 7\n"
     ]
    }
   ],
   "metadata": {}
  },
  {
   "cell_type": "code",
   "execution_count": 4,
   "source": [
    "A = [[0,4,0,0,5,0],[1,0,0,6,0,0],[0,0,0,0,3,0],[0,1,10,0,0,5],[8,0,2,10,0,0],[0,0,0,11,0,0]]\n",
    " \n",
    "dijkstra(A, 1, 3);"
   ],
   "outputs": [
    {
     "output_type": "stream",
     "name": "stdout",
     "text": [
      "Shortest path from 1 to 3 is 6\n"
     ]
    }
   ],
   "metadata": {}
  }
 ],
 "metadata": {
  "kernelspec": {
   "display_name": "Python 3",
   "language": "python",
   "name": "python3"
  },
  "language_info": {
   "codemirror_mode": {
    "name": "ipython",
    "version": 3
   },
   "file_extension": ".py",
   "mimetype": "text/x-python",
   "name": "python",
   "nbconvert_exporter": "python",
   "pygments_lexer": "ipython3",
   "version": "3.8.8"
  }
 },
 "nbformat": 4,
 "nbformat_minor": 5
}