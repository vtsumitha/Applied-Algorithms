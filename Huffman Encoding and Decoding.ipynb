{
 "cells": [
  {
   "cell_type": "markdown",
   "source": [
    "# Applied Algorithms - Huffman Coding"
   ],
   "metadata": {}
  },
  {
   "cell_type": "markdown",
   "source": [
    "# Encoding"
   ],
   "metadata": {}
  },
  {
   "cell_type": "code",
   "execution_count": 1,
   "source": [
    "#Class that helps us build a huffman tree\n",
    "class h_tree:\n",
    "    def __init__(self, val, freq , left = None, right = None):\n",
    "\n",
    "        self.left = left\n",
    "        self.right = right\n",
    "        self.freq = freq\n",
    "        self.val = val\n",
    "        \n",
    "    #Helper function that helps us compare the frequency and sort them\n",
    "    def __lt__(self, other):\n",
    "        return self.freq < other.freq"
   ],
   "outputs": [],
   "metadata": {}
  },
  {
   "cell_type": "code",
   "execution_count": 2,
   "source": [
    "#Function to create huffman tree\n",
    "def huffman(d):\n",
    "    huffman_tree = []\n",
    "    \n",
    "    #Create a priority queue using min heap from the dictionary\n",
    "    for i,j in d.items():\n",
    "        huffman_tree.append(h_tree(i, j))\n",
    "    heapq.heapify(huffman_tree)\n",
    "    \n",
    "    #Iterate until there is just one element in the heap\n",
    "    for i in range(0, len(huffman_tree)-1):\n",
    "        #Get the least 2 values from the min heap\n",
    "        zero = heappop(huffman_tree)\n",
    "        one = heappop(huffman_tree)\n",
    "        #Push the combined element as the root into the huffman tree along with its left and right node\n",
    "        heappush(huffman_tree, h_tree(None, zero.freq + zero.freq, zero, one))\n",
    "    return(huffman_tree)"
   ],
   "outputs": [],
   "metadata": {}
  },
  {
   "cell_type": "code",
   "execution_count": 3,
   "source": [
    "from collections import Counter\n",
    "import heapq\n",
    "from heapq import heappush, heappop\n",
    "\n",
    "#Open and read the file\n",
    "file = open(\"input.txt\", \"rt\")\n",
    "ip_data = file.read().strip()\n",
    "print(ip_data)\n",
    "\n",
    "#Store each character and its frequency in a dictionary\n",
    "d = dict(Counter(ip_data))\n",
    "huffman_tree = huffman(d)"
   ],
   "outputs": [
    {
     "output_type": "stream",
     "name": "stdout",
     "text": [
      "Lorem ipsum dolor sit amet, consectetur adipiscing elit, sed do eiusmod tempor incididunt ut labore et dolore magna aliqua. Ut enim ad minim veniam, quis nostrud exercitation ullamco laboris nisi ut aliquip ex ea commodo consequat. Duis aute irure dolor in reprehenderit in voluptate velit esse cillum dolore eu fugiat nulla pariatur. Excepteur sint occaecat cupidatat non proident, sunt in culpa qui officia deserunt mollit anim id est laborum.\n"
     ]
    }
   ],
   "metadata": {}
  },
  {
   "cell_type": "code",
   "execution_count": 4,
   "source": [
    "#Function to encode the given data \n",
    "def encode(root, output, huffmanCode):\n",
    " \n",
    "    if root is None:\n",
    "        return\n",
    "    \n",
    "    #If the current node is the leaf, then output the value (handling if there is just one character)\n",
    "    if root.left is None and root.right is None:\n",
    "        huffmanCode[root.val] = output if len(output) > 0 else '0'\n",
    "        \n",
    "    #Recursively call the left and right child\n",
    "    encode(root.left, output + '0', huffmanCode)\n",
    "    encode(root.right, output + '1', huffmanCode)\n",
    "\n",
    "#Calling the function to get the encoded data\n",
    "def get_encoded_data(huffman_tree, ip_data):\n",
    "    root = huffman_tree[0]\n",
    "    huffmanCode = {}\n",
    "    encode(root, '', huffmanCode)\n",
    "    coded_data = ''\n",
    "    \n",
    "    for i in ip_data:\n",
    "        coded_data += huffmanCode[i]\n",
    "        \n",
    "    return coded_data, root\n",
    "    "
   ],
   "outputs": [],
   "metadata": {}
  },
  {
   "cell_type": "code",
   "execution_count": 5,
   "source": [
    "coded_data, root = get_encoded_data(huffman_tree, ip_data)\n",
    "print('Encoded data:' , coded_data)"
   ],
   "outputs": [
    {
     "output_type": "stream",
     "name": "stdout",
     "text": [
      "Encoded data: 101110001100001000001110011000101010111100111111001101110110001111110000100110111100011010110100111100000101001011111101011010000110111100001011010100001010011101001101001111010010101000111110101100010110010111011000011111001101001011111101111000011101110111011000110000001011111110111001000111011101010000111000101010000100110001011010110001111010011110101110110101011001111010110111111001101111111000010000011000010101101110110001111110000100000110111001001010111001101001110100111111001101111001111001101110111010111001010101100000110001111001101001111011101110000101100011110011010111110000011000110011110001011111101011110011100111110110011010001111010100100011111101110000010110100001001011000110101001101000110000110110011111111111111001111001011010001101111110011011111110000100001111101100110001111100011100111101011010011111100110111100111001010101100000101101110000100111010110100011100111001000111011000110101101000011011110000101111001111001101010111011101011100000111001111101101001011110100001100010100011101000001101110110001111110000100110001011011001000000101001000001011100111000011011101000010000110101100010110110101111101000111110111010101010100110100001101011111000011111001101011000011110111100001101011000111111111110111111001101110110001111110000100000110000011111001011000111010111000110011010110011001111111111111100111001010100101000011001101001110100101110111010111001100101101101100000101010100000111010011011110001011010101101000101101011010010001011010011010110101100111010100011110110011010100110101100110100001101100101001001000001111010000110101001011111101111001110110101011000101101101011001111111101010100111010111100111001110100001011000101100001101100011001110111010001111000001000111011010101101110010001111111111001101011010010110001111001100011110111000011110101011011111100110111111100001000111111001011101\n"
     ]
    }
   ],
   "metadata": {}
  },
  {
   "cell_type": "code",
   "execution_count": 6,
   "source": [
    "#Write the encoded data into the output file\n",
    "with open('output.txt', 'w') as f:\n",
    "    f.write(coded_data)"
   ],
   "outputs": [],
   "metadata": {}
  },
  {
   "cell_type": "markdown",
   "source": [
    "# Decoding"
   ],
   "metadata": {}
  },
  {
   "cell_type": "code",
   "execution_count": 7,
   "source": [
    "#Open and read the file\n",
    "file = open(\"output.txt\", \"rt\")\n",
    "op_data = file.read()\n",
    "op_data"
   ],
   "outputs": [
    {
     "output_type": "execute_result",
     "data": {
      "text/plain": [
       "'101110001100001000001110011000101010111100111111001101110110001111110000100110111100011010110100111100000101001011111101011010000110111100001011010100001010011101001101001111010010101000111110101100010110010111011000011111001101001011111101111000011101110111011000110000001011111110111001000111011101010000111000101010000100110001011010110001111010011110101110110101011001111010110111111001101111111000010000011000010101101110110001111110000100000110111001001010111001101001110100111111001101111001111001101110111010111001010101100000110001111001101001111011101110000101100011110011010111110000011000110011110001011111101011110011100111110110011010001111010100100011111101110000010110100001001011000110101001101000110000110110011111111111111001111001011010001101111110011011111110000100001111101100110001111100011100111101011010011111100110111100111001010101100000101101110000100111010110100011100111001000111011000110101101000011011110000101111001111001101010111011101011100000111001111101101001011110100001100010100011101000001101110110001111110000100110001011011001000000101001000001011100111000011011101000010000110101100010110110101111101000111110111010101010100110100001101011111000011111001101011000011110111100001101011000111111111110111111001101110110001111110000100000110000011111001011000111010111000110011010110011001111111111111100111001010100101000011001101001110100101110111010111001100101101101100000101010100000111010011011110001011010101101000101101011010010001011010011010110101100111010100011110110011010100110101100110100001101100101001001000001111010000110101001011111101111001110110101011000101101101011001111111101010100111010111100111001110100001011000101100001101100011001110111010001111000001000111011010101101110010001111111111001101011010010110001111001100011110111000011110101011011111100110111111100001000111111001011101'"
      ]
     },
     "metadata": {},
     "execution_count": 7
    }
   ],
   "metadata": {}
  },
  {
   "cell_type": "code",
   "execution_count": 8,
   "source": [
    "#Function to decode the data\n",
    "def decode(root, index, code, decoded):\n",
    " \n",
    "    if root is None:\n",
    "        return index\n",
    "    \n",
    "    # If the root is a leaf node, we have reached the end of tree\n",
    "    if root.left is None and root.right is None:\n",
    "        decoded = root.val\n",
    "        print(decoded, end = '')\n",
    "        return index\n",
    " \n",
    "    #increment the index and traverse in the direction of 0 or 1\n",
    "    index = index + 1\n",
    "    root = root.left if code[index] == '0' else root.right\n",
    "    return decode(root, index, code, decoded)\n",
    "\n",
    "def get_decoded_data(root, op_data):\n",
    "    #The text has just one unique character\n",
    "    if root.left is None and root.right is None:\n",
    "        while root.freq > 0:\n",
    "            print(root.val, end = '')\n",
    "            root.freq -=1\n",
    "\n",
    "    #Else recursively call the right and left child until leaf node to get the decoded data\n",
    "    else:       \n",
    "        index = -1\n",
    "        decoded = ''\n",
    "        while index < len(op_data) - 1:\n",
    "            index = decode(root, index, op_data, decoded)"
   ],
   "outputs": [],
   "metadata": {}
  },
  {
   "cell_type": "code",
   "execution_count": 9,
   "source": [
    "print('Decoded data:')\n",
    "get_decoded_data(root, op_data)"
   ],
   "outputs": [
    {
     "output_type": "stream",
     "name": "stdout",
     "text": [
      "Decoded data:\n",
      "Lorem ipsum dolor sit amet, consectetur adipiscing elit, sed do eiusmod tempor incididunt ut labore et dolore magna aliqua. Ut enim ad minim veniam, quis nostrud exercitation ullamco laboris nisi ut aliquip ex ea commodo consequat. Duis aute irure dolor in reprehenderit in voluptate velit esse cillum dolore eu fugiat nulla pariatur. Excepteur sint occaecat cupidatat non proident, sunt in culpa qui officia deserunt mollit anim id est laborum."
     ]
    }
   ],
   "metadata": {}
  }
 ],
 "metadata": {
  "kernelspec": {
   "display_name": "Python 3",
   "language": "python",
   "name": "python3"
  },
  "language_info": {
   "codemirror_mode": {
    "name": "ipython",
    "version": 3
   },
   "file_extension": ".py",
   "mimetype": "text/x-python",
   "name": "python",
   "nbconvert_exporter": "python",
   "pygments_lexer": "ipython3",
   "version": "3.8.8"
  }
 },
 "nbformat": 4,
 "nbformat_minor": 5
}