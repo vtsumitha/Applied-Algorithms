{
 "cells": [
  {
   "cell_type": "markdown",
   "source": [
    "# Applied Algorithms - Longest Consecutive Subsequence"
   ],
   "metadata": {}
  },
  {
   "cell_type": "code",
   "execution_count": 40,
   "source": [
    "def get_consecutive_subsequence ( A ) :\n",
    "\n",
    "    result = 0\n",
    "    output = []\n",
    "    start_index = 0\n",
    "   \n",
    "    for i in A:\n",
    "        count = 0\n",
    "        #check if the previous element is in the list, if yes, then this cannot be the starting sequence\n",
    "        if i-1 in A:\n",
    "            pass\n",
    "        \n",
    "        #Else find the count and update the indexes\n",
    "        else:\n",
    "            while i+1 in A:\n",
    "                count +=1\n",
    "                i+=1\n",
    "                \n",
    "        if count>result:\n",
    "            start_index = i-count\n",
    "            result = count\n",
    "            \n",
    "#Iterate to print in the right order\n",
    "    for i in A:\n",
    "        if i<=start_index+result and i >=start_index:\n",
    "            output.append(i)\n",
    "        \n",
    "    return output"
   ],
   "outputs": [],
   "metadata": {}
  },
  {
   "cell_type": "markdown",
   "source": [
    "# Test Cases"
   ],
   "metadata": {}
  },
  {
   "cell_type": "code",
   "execution_count": 45,
   "source": [
    "A =  [8, 4, 3, 1, 0, 2, 5, 7, 9, 10]\n",
    "get_consecutive_subsequence(A)"
   ],
   "outputs": [
    {
     "output_type": "execute_result",
     "data": {
      "text/plain": [
       "[4, 3, 1, 0, 2, 5]"
      ]
     },
     "metadata": {},
     "execution_count": 45
    }
   ],
   "metadata": {}
  },
  {
   "cell_type": "code",
   "execution_count": 46,
   "source": [
    "A =  [1, 2, 8, 4, 3, 5, 7, 9, 10]\n",
    "get_consecutive_subsequence(A)"
   ],
   "outputs": [
    {
     "output_type": "execute_result",
     "data": {
      "text/plain": [
       "[1, 2, 4, 3, 5]"
      ]
     },
     "metadata": {},
     "execution_count": 46
    }
   ],
   "metadata": {}
  },
  {
   "cell_type": "code",
   "execution_count": 50,
   "source": [
    "A =  [2,8,9,1,4,3,7,10]\n",
    "get_consecutive_subsequence(A)"
   ],
   "outputs": [
    {
     "output_type": "execute_result",
     "data": {
      "text/plain": [
       "[2, 1, 4, 3]"
      ]
     },
     "metadata": {},
     "execution_count": 50
    }
   ],
   "metadata": {}
  }
 ],
 "metadata": {
  "kernelspec": {
   "display_name": "Python 3",
   "language": "python",
   "name": "python3"
  },
  "language_info": {
   "codemirror_mode": {
    "name": "ipython",
    "version": 3
   },
   "file_extension": ".py",
   "mimetype": "text/x-python",
   "name": "python",
   "nbconvert_exporter": "python",
   "pygments_lexer": "ipython3",
   "version": "3.8.8"
  }
 },
 "nbformat": 4,
 "nbformat_minor": 5
}